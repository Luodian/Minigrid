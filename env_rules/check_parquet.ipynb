{
 "cells": [
  {
   "cell_type": "code",
   "execution_count": 10,
   "id": "0e1a8d65",
   "metadata": {},
   "outputs": [
    {
     "name": "stdout",
     "output_type": "stream",
     "text": [
      "\n",
      "First item (row 0):\n",
      "[{\"type\": \"text\", \"has_loss\": 0, \"text\": \"Environment Rule:\\n- Video Prompt:\\n    - Render a top-down 5x5 grid with gray outer walls. A vertical wall divides the grid at a random column position (2-3), creating left and right sections. A red triangular agent starts randomly positioned on the left side. The goal is a green square in the bottom-right corner. A yellow locked door is placed randomly in the vertical wall, and a yellow key is placed randomly on the left side. The agent must find the key, pick it up, unlock the door, pass through, and reach the goal. Show the agent collecting the key, unlocking the door, and navigating to the goal.\\n\\n- Rule Summary:\\n    - Objective: Use the yellow key to unlock the door and reach the green goal square.\\n    - Environment: 5x5 grid with vertical dividing wall at random position (columns 2-3), creating two sections.\\n    - Key mechanics: Success by reaching the goal.\"}, {\"type\": \"text\", \"has_loss\": 1, \"text\": \"Map 8\\u00d78. Agent at (1, 1), facing right. Mission: use the key to open the door and then get to the goal Goal: (6, 6); Key: (3, 2) (yellow); Door: (4, 5) (locked=True, open=False, color=yellow). Walls: Outer walls on top, bottom, left, right; plus 5 interior wall cell(s).\"}, {\"type\": \"image_gen\", \"has_loss\": 1, \"image_index\": 0}, {\"type\": \"text\", \"has_loss\": 0, \"text\": \"forward\"}, {\"type\": \"image_gen\", \"has_loss\": 1, \"image_index\": 1}, {\"type\": \"text\", \"has_loss\": 0, \"text\": \"forward\"}, {\"type\": \"image_gen\", \"has_loss\": 1, \"image_index\": 2}, {\"type\": \"text\", \"has_loss\": 0, \"text\": \"right\"}, {\"type\": \"image_gen\", \"has_loss\": 1, \"image_index\": 3}, {\"type\": \"text\", \"has_loss\": 0, \"text\": \"pickup\"}, {\"type\": \"image_gen\", \"has_loss\": 1, \"image_index\": 4}, {\"type\": \"text\", \"has_loss\": 0, \"text\": \"forward\"}, {\"type\": \"image_gen\", \"has_loss\": 1, \"image_index\": 5}, {\"type\": \"text\", \"has_loss\": 0, \"text\": \"forward\"}, {\"type\": \"image_gen\", \"has_loss\": 1, \"image_index\": 6}, {\"type\": \"text\", \"has_loss\": 0, \"text\": \"forward\"}, {\"type\": \"image_gen\", \"has_loss\": 1, \"image_index\": 7}, {\"type\": \"text\", \"has_loss\": 0, \"text\": \"forward\"}, {\"type\": \"image_gen\", \"has_loss\": 1, \"image_index\": 8}, {\"type\": \"text\", \"has_loss\": 0, \"text\": \"left\"}, {\"type\": \"image_gen\", \"has_loss\": 1, \"image_index\": 9}, {\"type\": \"text\", \"has_loss\": 0, \"text\": \"right\"}, {\"type\": \"image_gen\", \"has_loss\": 1, \"image_index\": 10}, {\"type\": \"text\", \"has_loss\": 0, \"text\": \"left\"}, {\"type\": \"image_gen\", \"has_loss\": 1, \"image_index\": 11}, {\"type\": \"text\", \"has_loss\": 0, \"text\": \"toggle\"}, {\"type\": \"image_gen\", \"has_loss\": 1, \"image_index\": 12}, {\"type\": \"text\", \"has_loss\": 0, \"text\": \"forward\"}, {\"type\": \"image_gen\", \"has_loss\": 1, \"image_index\": 13}, {\"type\": \"text\", \"has_loss\": 0, \"text\": \"forward\"}, {\"type\": \"image_gen\", \"has_loss\": 1, \"image_index\": 14}, {\"type\": \"text\", \"has_loss\": 0, \"text\": \"forward\"}, {\"type\": \"image_gen\", \"has_loss\": 1, \"image_index\": 15}, {\"type\": \"text\", \"has_loss\": 0, \"text\": \"right\"}, {\"type\": \"image_gen\", \"has_loss\": 1, \"image_index\": 16}, {\"type\": \"text\", \"has_loss\": 0, \"text\": \"right\"}, {\"type\": \"image_gen\", \"has_loss\": 1, \"image_index\": 17}, {\"type\": \"text\", \"has_loss\": 0, \"text\": \"left\"}, {\"type\": \"image_gen\", \"has_loss\": 1, \"image_index\": 18}, {\"type\": \"text\", \"has_loss\": 0, \"text\": \"forward\"}, {\"type\": \"image_gen\", \"has_loss\": 1, \"image_index\": 19}]\n"
     ]
    }
   ],
   "source": [
    "import pandas as pd\n",
    "import numpy as np\n",
    "\n",
    "# Load the parquet file\n",
    "parquet_path = \"/home/tiger/minigirid_v0_with_rule_prompts/MiniGrid-DoorKey-8x8-v0_rand0.2.w0.1756550165914_145774_0e335bc1.parquet\"\n",
    "df = pd.read_parquet(parquet_path)\n",
    "\n",
    "# Check the first item specifically\n",
    "print(\"\\nFirst item (row 0):\")\n",
    "print(df.iloc[0][\"inputs\"])"
   ]
  }
 ],
 "metadata": {
  "kernelspec": {
   "display_name": "Python 3",
   "language": "python",
   "name": "python3"
  },
  "language_info": {
   "codemirror_mode": {
    "name": "ipython",
    "version": 3
   },
   "file_extension": ".py",
   "mimetype": "text/x-python",
   "name": "python",
   "nbconvert_exporter": "python",
   "pygments_lexer": "ipython3",
   "version": "3.11.2"
  }
 },
 "nbformat": 4,
 "nbformat_minor": 5
}
