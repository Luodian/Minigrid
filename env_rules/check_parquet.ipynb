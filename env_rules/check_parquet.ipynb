{
 "cells": [
  {
   "cell_type": "code",
   "execution_count": 6,
   "id": "0e1a8d65",
   "metadata": {},
   "outputs": [
    {
     "name": "stdout",
     "output_type": "stream",
     "text": [
      "\n",
      "First item (row 0):\n",
      "[{\"type\": \"text\", \"has_loss\": 0, \"text\": \"BabyAI-GoToLocal Environment Rule Description\\n\\n- Video Prompt:\\n    - Render a top-down single room grid with gray outer walls. A red triangular agent starts at the center position facing right. The room contains randomly placed objects including one target object (ball/box/key) and multiple distractor objects of various colors (red, green, blue, purple, yellow, grey). The agent must navigate to the specific target object indicated by the mission text \\\"go to the {color} {type}\\\". Walls block movement and sight. Show the agent moving and turning to reach the designated target object.\\n\\n- Rule Summary:\\n    - Objective: Navigate to a specific target object (ball, box, or key) of a particular color as specified in the mission instruction.\\n    - Environment: Single room (6x6 or 8x8 grid depending on room_size), surrounded by walls, no doors or internal structures.\\n    - Key mechanics: Success by reach target object.\"}, {\"type\": \"text\", \"has_loss\": 1, \"text\": \"Map 6\\u00d76. Agent at (3, 2), facing up. Mission: go to the purple key Goal: none; Key: (4, 1) (purple); Door: none. Walls: Outer walls on top, bottom, left, right\"}, {\"type\": \"image_gen\", \"has_loss\": 1, \"image_index\": 0}, {\"type\": \"text\", \"has_loss\": 0, \"text\": \"left\"}, {\"type\": \"image_gen\", \"has_loss\": 1, \"image_index\": 1}, {\"type\": \"text\", \"has_loss\": 0, \"text\": \"forward\"}, {\"type\": \"image_gen\", \"has_loss\": 1, \"image_index\": 2}, {\"type\": \"text\", \"has_loss\": 0, \"text\": \"right\"}, {\"type\": \"image_gen\", \"has_loss\": 1, \"image_index\": 3}, {\"type\": \"text\", \"has_loss\": 0, \"text\": \"left\"}, {\"type\": \"image_gen\", \"has_loss\": 1, \"image_index\": 4}, {\"type\": \"text\", \"has_loss\": 0, \"text\": \"right\"}, {\"type\": \"image_gen\", \"has_loss\": 1, \"image_index\": 5}, {\"type\": \"text\", \"has_loss\": 0, \"text\": \"left\"}, {\"type\": \"image_gen\", \"has_loss\": 1, \"image_index\": 6}, {\"type\": \"text\", \"has_loss\": 0, \"text\": \"right\"}, {\"type\": \"image_gen\", \"has_loss\": 1, \"image_index\": 7}, {\"type\": \"text\", \"has_loss\": 0, \"text\": \"left\"}, {\"type\": \"image_gen\", \"has_loss\": 1, \"image_index\": 8}, {\"type\": \"text\", \"has_loss\": 0, \"text\": \"right\"}, {\"type\": \"image_gen\", \"has_loss\": 1, \"image_index\": 9}, {\"type\": \"text\", \"has_loss\": 0, \"text\": \"left\"}, {\"type\": \"image_gen\", \"has_loss\": 1, \"image_index\": 10}, {\"type\": \"text\", \"has_loss\": 0, \"text\": \"right\"}, {\"type\": \"image_gen\", \"has_loss\": 1, \"image_index\": 11}, {\"type\": \"text\", \"has_loss\": 0, \"text\": \"left\"}, {\"type\": \"image_gen\", \"has_loss\": 1, \"image_index\": 12}, {\"type\": \"text\", \"has_loss\": 0, \"text\": \"right\"}, {\"type\": \"image_gen\", \"has_loss\": 1, \"image_index\": 13}, {\"type\": \"text\", \"has_loss\": 0, \"text\": \"left\"}, {\"type\": \"image_gen\", \"has_loss\": 1, \"image_index\": 14}, {\"type\": \"text\", \"has_loss\": 0, \"text\": \"right\"}, {\"type\": \"image_gen\", \"has_loss\": 1, \"image_index\": 15}, {\"type\": \"text\", \"has_loss\": 0, \"text\": \"left\"}, {\"type\": \"image_gen\", \"has_loss\": 1, \"image_index\": 16}, {\"type\": \"text\", \"has_loss\": 0, \"text\": \"right\"}, {\"type\": \"image_gen\", \"has_loss\": 1, \"image_index\": 17}, {\"type\": \"text\", \"has_loss\": 0, \"text\": \"left\"}, {\"type\": \"image_gen\", \"has_loss\": 1, \"image_index\": 18}, {\"type\": \"text\", \"has_loss\": 0, \"text\": \"right\"}, {\"type\": \"image_gen\", \"has_loss\": 1, \"image_index\": 19}, {\"type\": \"text\", \"has_loss\": 0, \"text\": \"left\"}, {\"type\": \"image_gen\", \"has_loss\": 1, \"image_index\": 20}, {\"type\": \"text\", \"has_loss\": 0, \"text\": \"right\"}, {\"type\": \"image_gen\", \"has_loss\": 1, \"image_index\": 21}, {\"type\": \"text\", \"has_loss\": 0, \"text\": \"left\"}, {\"type\": \"image_gen\", \"has_loss\": 1, \"image_index\": 22}, {\"type\": \"text\", \"has_loss\": 0, \"text\": \"right\"}, {\"type\": \"image_gen\", \"has_loss\": 1, \"image_index\": 23}, {\"type\": \"text\", \"has_loss\": 0, \"text\": \"left\"}, {\"type\": \"image_gen\", \"has_loss\": 1, \"image_index\": 24}, {\"type\": \"text\", \"has_loss\": 0, \"text\": \"right\"}, {\"type\": \"image_gen\", \"has_loss\": 1, \"image_index\": 25}, {\"type\": \"text\", \"has_loss\": 0, \"text\": \"left\"}, {\"type\": \"image_gen\", \"has_loss\": 1, \"image_index\": 26}, {\"type\": \"text\", \"has_loss\": 0, \"text\": \"right\"}, {\"type\": \"image_gen\", \"has_loss\": 1, \"image_index\": 27}, {\"type\": \"text\", \"has_loss\": 0, \"text\": \"left\"}, {\"type\": \"image_gen\", \"has_loss\": 1, \"image_index\": 28}, {\"type\": \"text\", \"has_loss\": 0, \"text\": \"right\"}, {\"type\": \"image_gen\", \"has_loss\": 1, \"image_index\": 29}, {\"type\": \"text\", \"has_loss\": 0, \"text\": \"left\"}, {\"type\": \"image_gen\", \"has_loss\": 1, \"image_index\": 30}, {\"type\": \"text\", \"has_loss\": 0, \"text\": \"right\"}, {\"type\": \"image_gen\", \"has_loss\": 1, \"image_index\": 31}, {\"type\": \"text\", \"has_loss\": 0, \"text\": \"left\"}, {\"type\": \"image_gen\", \"has_loss\": 1, \"image_index\": 32}, {\"type\": \"text\", \"has_loss\": 0, \"text\": \"right\"}, {\"type\": \"image_gen\", \"has_loss\": 1, \"image_index\": 33}, {\"type\": \"text\", \"has_loss\": 0, \"text\": \"left\"}, {\"type\": \"image_gen\", \"has_loss\": 1, \"image_index\": 34}, {\"type\": \"text\", \"has_loss\": 0, \"text\": \"right\"}, {\"type\": \"image_gen\", \"has_loss\": 1, \"image_index\": 35}, {\"type\": \"text\", \"has_loss\": 0, \"text\": \"left\"}, {\"type\": \"image_gen\", \"has_loss\": 1, \"image_index\": 36}]\n"
     ]
    }
   ],
   "source": [
    "import pandas as pd\n",
    "import numpy as np\n",
    "\n",
    "# Load the parquet file\n",
    "parquet_path = \"/home/tiger/Minigrid/minigirid_v0_with_rules_updated/BabyAI-GoToLocalS6N3-v0_rand0.2.w0.size1000_1756566136307_3701674_03e944be.parquet\"\n",
    "df = pd.read_parquet(parquet_path)\n",
    "\n",
    "# Check the first item specifically\n",
    "print(\"\\nFirst item (row 0):\")\n",
    "print(df.iloc[0][\"inputs\"])"
   ]
  }
 ],
 "metadata": {
  "kernelspec": {
   "display_name": "Python 3",
   "language": "python",
   "name": "python3"
  },
  "language_info": {
   "codemirror_mode": {
    "name": "ipython",
    "version": 3
   },
   "file_extension": ".py",
   "mimetype": "text/x-python",
   "name": "python",
   "nbconvert_exporter": "python",
   "pygments_lexer": "ipython3",
   "version": "3.11.2"
  }
 },
 "nbformat": 4,
 "nbformat_minor": 5
}
